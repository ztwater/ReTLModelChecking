{
 "cells": [
  {
   "cell_type": "code",
   "execution_count": 57,
   "metadata": {},
   "outputs": [
    {
     "data": {
      "text/plain": [
       "array([55906.58413349, 65071.23842458])"
      ]
     },
     "execution_count": 57,
     "metadata": {},
     "output_type": "execute_result"
    }
   ],
   "source": [
    "import solver as s\n",
    "import numpy as np\n",
    "\n",
    "M_0 = [[ -94.72819358,  434.46110037],\n",
    " [ 492.37137264,  -83.76364682],\n",
    " [-461.6632819 ,   12.30747059],\n",
    " [-234.53363339,  489.13163952],\n",
    " [ 259.29965552,  494.36247177]]\n",
    "b_0 = [-182.72045151,    7.45832728,  284.61444311, -447.71059602,  -62.24412898]\n",
    "M_1 = [[-371.11325071,   40.03482654,  196.47905434, -488.05364273,\n",
    "   391.03383745],\n",
    " [ 130.40129912,    9.54504472,  226.46398193, -122.85122664,\n",
    "   154.48380419]]\n",
    "b_1 = [-229.5058073 ,  368.14576833]\n",
    "M = [M_0, M_1]\n",
    "b = [b_0, b_1]\n",
    "M = [M_0, M_1]\n",
    "b = [b_0, b_1]\n",
    "feedForward(M, b,  [3.84121358738431e-10, 0.0890401485416654])"
   ]
  },
  {
   "cell_type": "code",
   "execution_count": 1,
   "metadata": {},
   "outputs": [],
   "source": [
    "def ReLU(v):\n",
    "    for i in range(len(v)):\n",
    "        if v[i] < 0:\n",
    "            v[i] = 0\n",
    "    return v\n",
    "\n",
    "def feedForward(M, b, v):\n",
    "    for i in range(len(M)):\n",
    "        if i == len(M)-1:\n",
    "            v = np.dot(M[i], v)+b[i]\n",
    "        else:\n",
    "            v = ReLU(np.dot(M[i], v)+b[i])\n",
    "        # print(v)\n",
    "    return v"
   ]
  },
  {
   "cell_type": "code",
   "execution_count": 4,
   "metadata": {},
   "outputs": [],
   "source": [
    "# random pick network parameters\n",
    "def generate_network(d):\n",
    "    res = []\n",
    "    for i in range(len(d)-1):\n",
    "        tmp = np.random.rand(d[i]*d[i+1]) * 1000 - 500\n",
    "        res.append(tmp)\n",
    "        tmp = np.random.rand(d[i+1]) * 1000 - 500\n",
    "        res.append(tmp)\n",
    "    return res\n",
    "\n",
    "def generate_network_int(d):\n",
    "    res = []\n",
    "    for i in range(len(d)-1):\n",
    "        tmp = np.random.randint(-10, 10, size=d[i]*d[i+1])\n",
    "        res.append(tmp)\n",
    "        tmp = np.random.randint(-10, 10, size=d[i+1])\n",
    "        res.append(tmp)\n",
    "    return res"
   ]
  },
  {
   "cell_type": "code",
   "execution_count": 41,
   "metadata": {},
   "outputs": [
    {
     "name": "stdout",
     "output_type": "stream",
     "text": [
      "-405.02851617459237 356.8287527043974 382.56825854439853 440.32696579295566 -94.38514019516384 -412.50520889854306 233.43905000234327 -173.62471612888186 367.4115811766883 196.84618746381955 -388.39026636159036 -314.55629507540516 -367.95892859533376 425.0598190052017\n",
      "-6.952326887242009 -499.1991004823677 -141.66366208191891 -239.1365833611714 54.2911242795185 -273.7425279165898 -18.062140660018656\n",
      "377.53172800314917 -259.30876720869657 222.83111493356262 -125.92679465643744 -324.85794238116193 -410.27135841784093 487.1294413211501 211.3421673732846 278.9594348008667 -95.79779015475566 -356.31736788879164 152.97706375445898 316.2273610827856 -302.9236607579312\n",
      "62.45127377063909 452.61791972800825\n"
     ]
    }
   ],
   "source": [
    "d = [2,7,2]\n",
    "t = generate_network(d)\n",
    "#t = generate_network_int(d)\n",
    "for a in t:\n",
    "    # print(f\"{np.array2string(a, separator=' ')}\")\n",
    "    cnt = 1\n",
    "    for b in a:\n",
    "        if (cnt == len(a)):\n",
    "            print(b, end='\\n')\n",
    "        else:\n",
    "            print(b, end=' ')\n",
    "        cnt += 1"
   ]
  },
  {
   "cell_type": "code",
   "execution_count": 11,
   "metadata": {},
   "outputs": [
    {
     "data": {
      "text/plain": [
       "[array([ 7, -6,  3,  8,  8,  2,  9,  9,  2, -5,  6,  4, -1,  1, -9,  0]),\n",
       " array([ -1,   1,  -8,   3,   5,  -9, -10,  -9]),\n",
       " array([  7,   0,   8,   1,   3,  -9,   9,  -8,   9,  -3,  -6,  -3, -10,\n",
       "          5,  -4,  -4]),\n",
       " array([-3,  5])]"
      ]
     },
     "execution_count": 11,
     "metadata": {},
     "output_type": "execute_result"
    }
   ],
   "source": [
    "print(t)\n",
    "for i in range(len(t)):\n",
    "    for j in range(len(t[i])):\n",
    "        print(t[i][j], end=' ')\n",
    "        if (j+1)%d[i] == 0:\n",
    "            print('\\\\', end='\\n')\n",
    "        else:\n",
    "            print('&', end=' ')\n",
    "    i += 1\n",
    "    for j in range(len(t[i])):\n",
    "        print(t[i][j], end=' ')\n",
    "        if (j+1)%d[i] == 0:\n",
    "            print('\\\\', end='\\n')\n",
    "        else:\n",
    "            print('&', end=' ')"
   ]
  },
  {
   "cell_type": "code",
   "execution_count": 55,
   "metadata": {},
   "outputs": [
    {
     "ename": "ValueError",
     "evalue": "The algorithm terminated successfully and determined that the problem is infeasible.",
     "output_type": "error",
     "traceback": [
      "\u001b[0;31m---------------------------------------------------------------------------\u001b[0m",
      "\u001b[0;31mValueError\u001b[0m                                Traceback (most recent call last)",
      "\u001b[0;32m<ipython-input-55-383312573341>\u001b[0m in \u001b[0;36m<module>\u001b[0;34m\u001b[0m\n\u001b[1;32m     23\u001b[0m               \u001b[0mA_eq\u001b[0m\u001b[0;34m=\u001b[0m\u001b[0mcoeff_eq\u001b[0m\u001b[0;34m,\u001b[0m\u001b[0;34m\u001b[0m\u001b[0;34m\u001b[0m\u001b[0m\n\u001b[1;32m     24\u001b[0m               \u001b[0mb_eq\u001b[0m\u001b[0;34m=\u001b[0m\u001b[0mconst_eq\u001b[0m\u001b[0;34m,\u001b[0m\u001b[0;34m\u001b[0m\u001b[0;34m\u001b[0m\u001b[0m\n\u001b[0;32m---> 25\u001b[0;31m               bounds = (NINF, PINF))\n\u001b[0m\u001b[1;32m     26\u001b[0m \u001b[0;34m\u001b[0m\u001b[0m\n\u001b[1;32m     27\u001b[0m \u001b[0minterval\u001b[0m \u001b[0;34m=\u001b[0m \u001b[0mInterval\u001b[0m\u001b[0;34m(\u001b[0m\u001b[0mround\u001b[0m\u001b[0;34m(\u001b[0m\u001b[0mres_min\u001b[0m\u001b[0;34m.\u001b[0m\u001b[0mfun\u001b[0m\u001b[0;34m,\u001b[0m\u001b[0;36m6\u001b[0m\u001b[0;34m)\u001b[0m\u001b[0;34m,\u001b[0m\u001b[0mround\u001b[0m\u001b[0;34m(\u001b[0m\u001b[0;34m-\u001b[0m\u001b[0mres_max\u001b[0m\u001b[0;34m.\u001b[0m\u001b[0mfun\u001b[0m\u001b[0;34m,\u001b[0m\u001b[0;36m6\u001b[0m\u001b[0;34m)\u001b[0m\u001b[0;34m)\u001b[0m\u001b[0;34m\u001b[0m\u001b[0;34m\u001b[0m\u001b[0m\n",
      "\u001b[0;32m/opt/anaconda3/lib/python3.7/site-packages/scipy/optimize/_linprog.py\u001b[0m in \u001b[0;36mlinprog\u001b[0;34m(c, A_ub, b_ub, A_eq, b_eq, bounds, method, callback, options, x0)\u001b[0m\n\u001b[1;32m    567\u001b[0m                                                        \u001b[0mcomplete\u001b[0m\u001b[0;34m,\u001b[0m \u001b[0mstatus\u001b[0m\u001b[0;34m,\u001b[0m\u001b[0;34m\u001b[0m\u001b[0;34m\u001b[0m\u001b[0m\n\u001b[1;32m    568\u001b[0m                                                        \u001b[0mmessage\u001b[0m\u001b[0;34m,\u001b[0m \u001b[0mtol\u001b[0m\u001b[0;34m,\u001b[0m\u001b[0;34m\u001b[0m\u001b[0;34m\u001b[0m\u001b[0m\n\u001b[0;32m--> 569\u001b[0;31m                                                        iteration, disp)\n\u001b[0m\u001b[1;32m    570\u001b[0m \u001b[0;34m\u001b[0m\u001b[0m\n\u001b[1;32m    571\u001b[0m     sol = {\n",
      "\u001b[0;32m/opt/anaconda3/lib/python3.7/site-packages/scipy/optimize/_linprog_util.py\u001b[0m in \u001b[0;36m_postprocess\u001b[0;34m(x, postsolve_args, complete, status, message, tol, iteration, disp)\u001b[0m\n\u001b[1;32m   1477\u001b[0m     status, message = _check_result(\n\u001b[1;32m   1478\u001b[0m         \u001b[0mx\u001b[0m\u001b[0;34m,\u001b[0m \u001b[0mfun\u001b[0m\u001b[0;34m,\u001b[0m \u001b[0mstatus\u001b[0m\u001b[0;34m,\u001b[0m \u001b[0mslack\u001b[0m\u001b[0;34m,\u001b[0m \u001b[0mcon\u001b[0m\u001b[0;34m,\u001b[0m\u001b[0;34m\u001b[0m\u001b[0;34m\u001b[0m\u001b[0m\n\u001b[0;32m-> 1479\u001b[0;31m         \u001b[0mlb\u001b[0m\u001b[0;34m,\u001b[0m \u001b[0mub\u001b[0m\u001b[0;34m,\u001b[0m \u001b[0mtol\u001b[0m\u001b[0;34m,\u001b[0m \u001b[0mmessage\u001b[0m\u001b[0;34m\u001b[0m\u001b[0;34m\u001b[0m\u001b[0m\n\u001b[0m\u001b[1;32m   1480\u001b[0m     )\n\u001b[1;32m   1481\u001b[0m \u001b[0;34m\u001b[0m\u001b[0m\n",
      "\u001b[0;32m/opt/anaconda3/lib/python3.7/site-packages/scipy/optimize/_linprog_util.py\u001b[0m in \u001b[0;36m_check_result\u001b[0;34m(x, fun, status, slack, con, lb, ub, tol, message)\u001b[0m\n\u001b[1;32m   1392\u001b[0m         \u001b[0;31m# nearly basic feasible solution. Postsolving can make the solution\u001b[0m\u001b[0;34m\u001b[0m\u001b[0;34m\u001b[0m\u001b[0;34m\u001b[0m\u001b[0m\n\u001b[1;32m   1393\u001b[0m         \u001b[0;31m# basic, however, this solution is NOT optimal\u001b[0m\u001b[0;34m\u001b[0m\u001b[0;34m\u001b[0m\u001b[0;34m\u001b[0m\u001b[0m\n\u001b[0;32m-> 1394\u001b[0;31m         \u001b[0;32mraise\u001b[0m \u001b[0mValueError\u001b[0m\u001b[0;34m(\u001b[0m\u001b[0mmessage\u001b[0m\u001b[0;34m)\u001b[0m\u001b[0;34m\u001b[0m\u001b[0;34m\u001b[0m\u001b[0m\n\u001b[0m\u001b[1;32m   1395\u001b[0m \u001b[0;34m\u001b[0m\u001b[0m\n\u001b[1;32m   1396\u001b[0m     \u001b[0;32mreturn\u001b[0m \u001b[0mstatus\u001b[0m\u001b[0;34m,\u001b[0m \u001b[0mmessage\u001b[0m\u001b[0;34m\u001b[0m\u001b[0;34m\u001b[0m\u001b[0m\n",
      "\u001b[0;31mValueError\u001b[0m: The algorithm terminated successfully and determined that the problem is infeasible."
     ]
    }
   ],
   "source": [
    "from scipy.optimize import linprog\n",
    "coeff_eq = [[1,0]]\n",
    "coeff_in = [[1,-1]]\n",
    "const_eq = [1]\n",
    "const_in = [0]\n",
    "PINF = float(\"inf\");\n",
    "NINF = float(\"-inf\");\n",
    "# used for transfer conditions with strict signs e.g. x < 1 -> x <= 1 - epsilon\n",
    "epsilon = 0.00001\n",
    "#print(coeff_eq, coeff_in, const_eq, const_in)\n",
    "coeff_min = [0,1]\n",
    "res_min = linprog(coeff_min,\n",
    "              A_ub=coeff_in,\n",
    "              b_ub=const_in,\n",
    "              A_eq=coeff_eq,\n",
    "              b_eq=const_eq,\n",
    "              bounds = (NINF, PINF))\n",
    "\n",
    "coeff_max = [0,-1]\n",
    "res_max = linprog(coeff_max,\n",
    "              A_ub=coeff_in,\n",
    "              b_ub=const_in,\n",
    "              A_eq=coeff_eq,\n",
    "              b_eq=const_eq,\n",
    "              bounds = (NINF, PINF))\n",
    "\n",
    "interval = Interval(round(res_min.fun,6),round(-res_max.fun,6))\n",
    "print(res_min, res_max)"
   ]
  },
  {
   "cell_type": "code",
   "execution_count": 85,
   "metadata": {},
   "outputs": [
    {
     "data": {
      "text/plain": [
       "[array([['3', '=', '4'],\n",
       "        ['1', '>', '2'],\n",
       "        ['2', '>', '3']], dtype=object),\n",
       " array([['3', '=', '4'],\n",
       "        ['1', '>', '2'],\n",
       "        ['2', '<', '3']], dtype=object),\n",
       " array([['3', '=', '4'],\n",
       "        ['1', '<', '2'],\n",
       "        ['2', '>', '3']], dtype=object),\n",
       " array([['3', '=', '4'],\n",
       "        ['1', '<', '2'],\n",
       "        ['2', '<', '3']], dtype=object),\n",
       " array([['1', '=', '2']], dtype=object)]"
      ]
     },
     "execution_count": 85,
     "metadata": {},
     "output_type": "execute_result"
    }
   ],
   "source": [
    "def AND(e1, e2):\n",
    "    '''\n",
    "    logicAnd for inequalities\n",
    "    \n",
    "    @param e1, e2: inequalities in the form of [np.array([[]), ...]\n",
    "    @return e: a new inequality system when both e1 and e2 are satisfied\n",
    "    '''\n",
    "    # Deal with true/false value\n",
    "    if isinstance(e1,int):\n",
    "        if e1 == 0:\n",
    "            return 0\n",
    "        elif e1 == 1:\n",
    "            return e2\n",
    "    if isinstance(e2,int):\n",
    "        if e2 == 0:\n",
    "            return 0\n",
    "        elif e2 == 1:\n",
    "            return e1\n",
    "    # Combine each possible inequality matrix in two systems\n",
    "    e = []\n",
    "    if len(e1) == 0:\n",
    "        return e2\n",
    "    if len(e2) == 0:\n",
    "        return e1\n",
    "    for a in e1:\n",
    "        for b in e2:\n",
    "            e.append(np.r_[a,b])\n",
    "    return e\n",
    "\n",
    "def expand(e):\n",
    "    res = []\n",
    "    if isinstance(e, list) == False:\n",
    "        return e\n",
    "    else:\n",
    "        for ele in e:\n",
    "            tmp = []\n",
    "            exp = []\n",
    "            for element in ele:\n",
    "                if (element[1] == 'N'):\n",
    "                    exp.append([np.array([[element[0], '>', element[2]]], dtype=object), np.array([[element[0], '<', element[2]]], dtype=object)] )\n",
    "                else:\n",
    "                    tmp.append(element[:])\n",
    "            if tmp == []:\n",
    "                cur = []\n",
    "            else:\n",
    "                cur = [np.array(tmp, dtype=object)]\n",
    "            for exponent in exp:\n",
    "                cur = AND(cur, exponent)\n",
    "            res += cur\n",
    "        return res\n",
    "\n",
    "expand([np.array([[1, 'N', 2],[2,'N',3],[3,'=',4]]), np.array([[1, '=', 2]])])"
   ]
  },
  {
   "cell_type": "code",
   "execution_count": 48,
   "metadata": {},
   "outputs": [
    {
     "ename": "NotImplementedError",
     "evalue": "(Set(1.0))._inf",
     "output_type": "error",
     "traceback": [
      "\u001b[0;31m---------------------------------------------------------------------------\u001b[0m",
      "\u001b[0;31mNotImplementedError\u001b[0m                       Traceback (most recent call last)",
      "\u001b[0;32m<ipython-input-48-54e2b9102de1>\u001b[0m in \u001b[0;36m<module>\u001b[0;34m\u001b[0m\n\u001b[1;32m      1\u001b[0m \u001b[0;32mfrom\u001b[0m \u001b[0msympy\u001b[0m \u001b[0;32mimport\u001b[0m \u001b[0;34m*\u001b[0m\u001b[0;34m\u001b[0m\u001b[0;34m\u001b[0m\u001b[0m\n\u001b[0;32m----> 2\u001b[0;31m \u001b[0mSet\u001b[0m\u001b[0;34m(\u001b[0m\u001b[0;36m1.0\u001b[0m\u001b[0;34m)\u001b[0m\u001b[0;34m.\u001b[0m\u001b[0minf\u001b[0m\u001b[0;34m\u001b[0m\u001b[0;34m\u001b[0m\u001b[0m\n\u001b[0m",
      "\u001b[0;32m/opt/anaconda3/lib/python3.7/site-packages/sympy/sets/sets.py\u001b[0m in \u001b[0;36minf\u001b[0;34m(self)\u001b[0m\n\u001b[1;32m    269\u001b[0m \u001b[0;34m\u001b[0m\u001b[0m\n\u001b[1;32m    270\u001b[0m         \"\"\"\n\u001b[0;32m--> 271\u001b[0;31m         \u001b[0;32mreturn\u001b[0m \u001b[0mself\u001b[0m\u001b[0;34m.\u001b[0m\u001b[0m_inf\u001b[0m\u001b[0;34m\u001b[0m\u001b[0;34m\u001b[0m\u001b[0m\n\u001b[0m\u001b[1;32m    272\u001b[0m \u001b[0;34m\u001b[0m\u001b[0m\n\u001b[1;32m    273\u001b[0m     \u001b[0;34m@\u001b[0m\u001b[0mproperty\u001b[0m\u001b[0;34m\u001b[0m\u001b[0;34m\u001b[0m\u001b[0m\n",
      "\u001b[0;32m/opt/anaconda3/lib/python3.7/site-packages/sympy/sets/sets.py\u001b[0m in \u001b[0;36m_inf\u001b[0;34m(self)\u001b[0m\n\u001b[1;32m    273\u001b[0m     \u001b[0;34m@\u001b[0m\u001b[0mproperty\u001b[0m\u001b[0;34m\u001b[0m\u001b[0;34m\u001b[0m\u001b[0m\n\u001b[1;32m    274\u001b[0m     \u001b[0;32mdef\u001b[0m \u001b[0m_inf\u001b[0m\u001b[0;34m(\u001b[0m\u001b[0mself\u001b[0m\u001b[0;34m)\u001b[0m\u001b[0;34m:\u001b[0m\u001b[0;34m\u001b[0m\u001b[0;34m\u001b[0m\u001b[0m\n\u001b[0;32m--> 275\u001b[0;31m         \u001b[0;32mraise\u001b[0m \u001b[0mNotImplementedError\u001b[0m\u001b[0;34m(\u001b[0m\u001b[0;34m\"(%s)._inf\"\u001b[0m \u001b[0;34m%\u001b[0m \u001b[0mself\u001b[0m\u001b[0;34m)\u001b[0m\u001b[0;34m\u001b[0m\u001b[0;34m\u001b[0m\u001b[0m\n\u001b[0m\u001b[1;32m    276\u001b[0m \u001b[0;34m\u001b[0m\u001b[0m\n\u001b[1;32m    277\u001b[0m     \u001b[0;34m@\u001b[0m\u001b[0mproperty\u001b[0m\u001b[0;34m\u001b[0m\u001b[0;34m\u001b[0m\u001b[0m\n",
      "\u001b[0;31mNotImplementedError\u001b[0m: (Set(1.0))._inf"
     ]
    }
   ],
   "source": [
    "from sympy import *\n",
    "Set(1.0).inf"
   ]
  },
  {
   "cell_type": "code",
   "execution_count": 2,
   "metadata": {},
   "outputs": [
    {
     "data": {
      "text/plain": [
       "array([20.00000006, 40.00000012])"
      ]
     },
     "execution_count": 2,
     "metadata": {},
     "output_type": "execute_result"
    }
   ],
   "source": [
    "import solver as s\n",
    "import numpy as np\n",
    "\n",
    "M_0 = [[1, 2],\n",
    " [3,4],\n",
    " [5,6]]\n",
    "b_0 = [1,2,3]\n",
    "M_1 = [[1,1,1],\n",
    " [2,2,2]]\n",
    "b_1 = [1,2]\n",
    "M = [M_0, M_1]\n",
    "b = [b_0, b_1]\n",
    "M = [M_0, M_1]\n",
    "b = [b_0, b_1]\n",
    "feedForward(M, b,  [0.111111111703919,1.0000000044866])"
   ]
  },
  {
   "cell_type": "code",
   "execution_count": null,
   "metadata": {},
   "outputs": [],
   "source": []
  }
 ],
 "metadata": {
  "kernelspec": {
   "display_name": "Python 3",
   "language": "python",
   "name": "python3"
  },
  "language_info": {
   "codemirror_mode": {
    "name": "ipython",
    "version": 3
   },
   "file_extension": ".py",
   "mimetype": "text/x-python",
   "name": "python",
   "nbconvert_exporter": "python",
   "pygments_lexer": "ipython3",
   "version": "3.7.0"
  }
 },
 "nbformat": 4,
 "nbformat_minor": 4
}
